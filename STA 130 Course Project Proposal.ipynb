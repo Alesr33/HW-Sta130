{
 "cells": [
  {
   "cell_type": "markdown",
   "id": "9dedaa03",
   "metadata": {},
   "source": [
    "##### 1. Is there an association with the frequency of talking to family members and the frequency of feelings of depression? \n",
    "\n",
    "Variables:                                                                                                               \n",
    "WELLNESS_malach_pines_burnout_measure_depressed: Ordinal. This variable was chosen because it provides information into how frequently the people in the sample feel depressed, corresponding to what the research question wants to find.\n",
    "\n",
    "CONNECTION_activities_talked_family_p3m: Ordinal. This variable was chosen because it provides information on how often the participants in the sample communicated with their families, allowing us to compare this frequency with the frequency of feelings of depression and find if there is any correlation.\n",
    "\n",
    "In both variables, a bar plot would provide an effective option to summarize the data in a clear way and to identify how much is each frequency chosen in the variables. \n",
    "\n",
    "Analysis: For this, p-values will be used. The null hypothesis is that there is no correlation between the frequency of feelings of depression and the frequency of talking to family. The Alternative hypothesis is that there is a relation between the variables. Bootstrapping will be used, and we will have a 5% threshold to reject the null hypothesis. This assumes that all participants answered the questions truthfully, all values are independent from each other, and that the conversations with their family were of approximately the same amount of time.\n",
    "\n",
    "Hypothesis on results: The p-value will be smaller than 5%, providing evidence to reject the null hypothesis and accept the alternative. There is an inverse correlation between the frequency of talking to family and frequency of feelings of depression as the more frequent a participant speaks to their family, normally means that they have a stronger emotional connection with them makes them less likely to feel depressed. The results obtained will be significant in the results as they will tell us if there is evidence to believe that there is evidence to reject the hypothesis that there is no relation between the variables.\n",
    "\n",
    "##### 2. What is the average frequency in which students made new friends in a period of three months?\n",
    "\n",
    "Variables:                                                                                                               \n",
    "CONNECTION_activities_new_friend_p3m: Ordinal. This variable was chosen because it shows how on average in a month, week, or in a day did the participants make new friends. Because the data is ordinal and can be represented in ordered values, we can analyze it and take the average frequency of the data, helping us on our estimation.\n",
    "\n",
    "DEMO_student: Boolean. This variable was chosen because it provides information on whether the participant is a student or not. Because it is a boolean type of data, it makes it easy to filter the data and leave only the rows for which the value is True, making an analysis for the estimation of average number of new friends easier.\n",
    "\n",
    "To visualize the data, a bar plot would be effective as they both summarize the data in an organized manner. The bar plot would allow us to see the number of times each option was selected among the sample. \n",
    "\n",
    "Analysis: An estimation of the total population will be made using the sample mean of the values in CONNECTION_activities_new_friend_p3m for the participants that are students. This method assumes that all values are independent from each other, all students come from similar cultural backgrounds, as the cultural environment can affect the number of new friends, and that participants answered the survey truthfully.\n",
    "\n",
    "Hypothesis on results: The average frequency for students will be several times a month, as they are in a new environment surrounded with people their age, making it easier for them to connect and as such, make friends several times a month. These results would be relevant in answering the question as they directly show the mean frequency of new friends made in 3 months.\n",
    "\n",
    "##### 3. To what extent does amount of sleep correlate with subjective happiness level?\n",
    "\n",
    "Variables:                                                                                                                \n",
    "HEALTH_hampson_good_health_practices_scale_sleep: Ordinal. This variable was chosen because it provides information on how much do the people in the sample agree with the affirmation that they get a good amount of sleep. There are variables that provide similar information, but they provide a lower number of options for the participant to choose from, limiting the information conveyed to us.\n",
    "\n",
    "WELLNESS_subjective_happiness_scale_happy: Numerical. This variable was chosen because it provides information with numbers on how happy the participants feel. Numerical data enables us to have a bigger range of results than ordinal data.\n",
    "\n",
    "For both variables, a box plot would be a good visualization method as it shows clearly the median and the quartiles of the data. Also, especially for the second variable, it can show outliers in the data, giving more information.\n",
    "\n",
    "Analysis: For this, a simple linear correlation will be used, in which we will find the line of best fit for the data in the two variables. Using the python statsmodel package learned in the tutorial, we will calculate 𝛽0 and 𝛽1, finding the linear equation, and then use the pearson coefficient r to see how correlated the data is. For this, we assume that all values are independent from each other, that the variance of errors (𝜖) is constant across all x, and that errors are normally distributed, that the relation of the values is linear, and that the participants answered the survey truthfully.\n",
    "\n",
    "Hypothesis: The correlation will have a moderate strength, probably with a 0.8 > r ≥ 0.4. This is as generally, more sleep means that a person has more energy and a higher mental health each day, but the correlation is not perfect as there are other factors that can affect this. The results would provide evidence to answer the question as the Pearson coefficient measures how well correlated the variables would be, answering the questions of to what extent the variables are correlated.\n"
   ]
  }
 ],
 "metadata": {
  "kernelspec": {
   "display_name": "Python 3 (ipykernel)",
   "language": "python",
   "name": "python3"
  },
  "language_info": {
   "codemirror_mode": {
    "name": "ipython",
    "version": 3
   },
   "file_extension": ".py",
   "mimetype": "text/x-python",
   "name": "python",
   "nbconvert_exporter": "python",
   "pygments_lexer": "ipython3",
   "version": "3.11.6"
  }
 },
 "nbformat": 4,
 "nbformat_minor": 5
}
